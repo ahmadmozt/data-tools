{
 "cells": [
  {
   "cell_type": "markdown",
   "metadata": {},
   "source": [
    "# Resize char\n",
    "\n",
    "V1.0.2"
   ]
  },
  {
   "cell_type": "code",
   "execution_count": 1,
   "metadata": {},
   "outputs": [
    {
     "data": {
      "application/vnd.jupyter.widget-view+json": {
       "model_id": "ddd758151cfb4f10972fe7d9564dc368",
       "version_major": 2,
       "version_minor": 0
      },
      "text/plain": [
       "HBox(children=(IntProgress(value=0, max=36), HTML(value='')))"
      ]
     },
     "metadata": {},
     "output_type": "display_data"
    },
    {
     "name": "stdout",
     "output_type": "stream",
     "text": [
      "\n"
     ]
    }
   ],
   "source": [
    "import os\n",
    "import cv2\n",
    "from tqdm.notebook import tqdm\n",
    "\n",
    "class ResizeImage:\n",
    "    def __init__(self):\n",
    "        #type_data = \"test\"\n",
    "        #self._img_size = 227\n",
    "        \n",
    "        self.__char_path = type_data+\"/characters\"\n",
    "        self.__char_save = type_data+\"/char-\"+str(self._img_size)\n",
    "        \n",
    "        if not os.path.exists(self.__char_save):\n",
    "            os.mkdir(self.__char_save)\n",
    "        \n",
    "        \n",
    "        \n",
    "    def resizing_square(self, image): # Resize square (Char)\n",
    "        old_size = image.shape[:2]\n",
    "        \n",
    "        ratio = float(self._img_size)/max(old_size)\n",
    "        new_size = tuple([int(x*ratio) for x in old_size])\n",
    "        image = cv2.resize(image, (new_size[1], new_size[0]))\n",
    "        \n",
    "        delta_w = self._img_size - new_size[1]\n",
    "        delta_h = self._img_size - new_size[0]\n",
    "        \n",
    "        top, bottom = delta_h//2, delta_h-(delta_h//2)\n",
    "        left, right = delta_w//2, delta_w-(delta_w//2)\n",
    "        \n",
    "        color = [0, 0, 0]\n",
    "        new_image = cv2.copyMakeBorder(\n",
    "            image, top, bottom, left, right, cv2.BORDER_CONSTANT, value=color)\n",
    "        \n",
    "        return new_image\n",
    "    \n",
    "    def creating_image(self):\n",
    "        char_path = self.__char_path\n",
    "        char_save = self.__char_save\n",
    "        \n",
    "        for label in tqdm(os.listdir(char_path)): # Label\n",
    "            path_label = os.path.join(char_path, label)\n",
    "            path_label_save = os.path.join(char_save, label)\n",
    "            if not os.path.exists(path_label_save):\n",
    "                os.mkdir(path_label_save)\n",
    "                \n",
    "            name = 1\n",
    "            for img_name in os.listdir(path_label): # Save\n",
    "                img = cv2.imread(os.path.join(path_label, img_name), cv2.IMREAD_GRAYSCALE)\n",
    "                resized_img = self.resizing_square(img)\n",
    "                cv2.imwrite(os.path.join(path_label_save, str(name)+\".jpg\"), resized_img)\n",
    "                name += 1\n",
    "    \n",
    "if __name__=='__main__':\n",
    "    ri = ResizeImage()\n",
    "    ri.creating_image()"
   ]
  },
  {
   "cell_type": "code",
   "execution_count": null,
   "metadata": {},
   "outputs": [],
   "source": []
  }
 ],
 "metadata": {
  "kernelspec": {
   "display_name": "Python 3",
   "language": "python",
   "name": "python3"
  },
  "language_info": {
   "codemirror_mode": {
    "name": "ipython",
    "version": 3
   },
   "file_extension": ".py",
   "mimetype": "text/x-python",
   "name": "python",
   "nbconvert_exporter": "python",
   "pygments_lexer": "ipython3",
   "version": "3.6.8"
  }
 },
 "nbformat": 4,
 "nbformat_minor": 2
}
