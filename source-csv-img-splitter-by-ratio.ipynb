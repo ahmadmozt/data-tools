{
 "cells": [
  {
   "cell_type": "markdown",
   "metadata": {},
   "source": [
    "# CSV & img splitter by ratio"
   ]
  },
  {
   "cell_type": "code",
   "execution_count": 1,
   "metadata": {},
   "outputs": [
    {
     "data": {
      "application/vnd.jupyter.widget-view+json": {
       "model_id": "91143cbce0a0481fb5b62b1fd02ed738",
       "version_major": 2,
       "version_minor": 0
      },
      "text/plain": [
       "HBox(children=(FloatProgress(value=0.0, max=2408.0), HTML(value='')))"
      ]
     },
     "metadata": {},
     "output_type": "display_data"
    },
    {
     "name": "stdout",
     "output_type": "stream",
     "text": [
      "\n"
     ]
    },
    {
     "data": {
      "application/vnd.jupyter.widget-view+json": {
       "model_id": "4600ec329af546bfb638b5b5d90f4cc3",
       "version_major": 2,
       "version_minor": 0
      },
      "text/plain": [
       "HBox(children=(FloatProgress(value=0.0, max=602.0), HTML(value='')))"
      ]
     },
     "metadata": {},
     "output_type": "display_data"
    },
    {
     "name": "stdout",
     "output_type": "stream",
     "text": [
      "\n"
     ]
    }
   ],
   "source": [
    "import os\n",
    "import csv\n",
    "import shutil\n",
    "import numpy as np\n",
    "from tqdm.notebook import tqdm\n",
    "from sklearn.model_selection import train_test_split\n",
    "\n",
    "seed_value = 1000\n",
    "\n",
    "class Splitter:\n",
    "    def __init__(self):\n",
    "        self._split_test_ratio = 0.2\n",
    "        self._csv_file = \"../../2-merged/ugm-first-add/merged-master.csv\"\n",
    "        self._img = \"../../2-merged/ugm-first-add/images\"\n",
    "        \n",
    "        self._path_save = [\"train\", \"test\"]\n",
    "        self._img_save_dir = \"images\"\n",
    "    \n",
    "    def loading_csv(self):\n",
    "        self._loaded_csv = []\n",
    "        with open(self._csv_file) as f:\n",
    "            reader = csv.reader(f)\n",
    "            self._header = next(reader) # Get Header\n",
    "            for row in reader:\n",
    "                self._loaded_csv.append(row)\n",
    "    \n",
    "    def shuffling_splitting_csv(self):\n",
    "        randState = np.random.RandomState(seed_value)\n",
    "        train, test = train_test_split(\n",
    "            self._loaded_csv, test_size=self._split_test_ratio, random_state=randState)\n",
    "        \n",
    "        self._splitted_csv = [train, test]\n",
    "        \n",
    "    def saving_img_csv(self):\n",
    "        for path_save, splitted_csv in zip(self._path_save, self._splitted_csv):\n",
    "            if not os.path.exists(path_save):\n",
    "                os.mkdir(path_save)\n",
    "            \n",
    "            csv_file = open(os.path.join(path_save, path_save+\".csv\"), 'w') # Save csv\n",
    "            with csv_file:\n",
    "                writer = csv.writer(csv_file)\n",
    "                writer.writerow(self._header)\n",
    "                writer.writerows(splitted_csv)\n",
    "                \n",
    "            img_save_path = os.path.join(path_save, self._img_save_dir)\n",
    "            if not os.path.exists(os.path.join(img_save_path)):\n",
    "                os.mkdir(img_save_path)\n",
    "                \n",
    "            for img_file in tqdm(splitted_csv): # Copy img\n",
    "                img_file = shutil.copyfile(\n",
    "                    os.path.join(self._img, img_file[0]), os.path.join(img_save_path, img_file[0]))\n",
    "    \n",
    "if __name__=='__main__':\n",
    "    sp = Splitter()\n",
    "    sp.loading_csv()\n",
    "    sp.shuffling_splitting_csv()\n",
    "    sp.saving_img_csv()"
   ]
  },
  {
   "cell_type": "code",
   "execution_count": null,
   "metadata": {},
   "outputs": [],
   "source": []
  }
 ],
 "metadata": {
  "kernelspec": {
   "display_name": "Python 3",
   "language": "python",
   "name": "python3"
  },
  "language_info": {
   "codemirror_mode": {
    "name": "ipython",
    "version": 3
   },
   "file_extension": ".py",
   "mimetype": "text/x-python",
   "name": "python",
   "nbconvert_exporter": "python",
   "pygments_lexer": "ipython3",
   "version": "3.6.8"
  }
 },
 "nbformat": 4,
 "nbformat_minor": 2
}
