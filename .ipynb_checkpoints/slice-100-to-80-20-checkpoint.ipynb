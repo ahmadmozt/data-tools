{
 "cells": [
  {
   "cell_type": "markdown",
   "metadata": {},
   "source": [
    "# Split train & test dataset"
   ]
  },
  {
   "cell_type": "code",
   "execution_count": 1,
   "metadata": {
    "scrolled": false
   },
   "outputs": [
    {
     "name": "stderr",
     "output_type": "stream",
     "text": [
      "Using TensorFlow backend.\n",
      "/home/ace/.local/share/virtualenvs/plate-recognition-9zLroqXY/lib/python3.7/site-packages/tensorflow/python/framework/dtypes.py:516: FutureWarning: Passing (type, 1) or '1type' as a synonym of type is deprecated; in a future version of numpy, it will be understood as (type, (1,)) / '(1,)type'.\n",
      "  _np_qint8 = np.dtype([(\"qint8\", np.int8, 1)])\n",
      "/home/ace/.local/share/virtualenvs/plate-recognition-9zLroqXY/lib/python3.7/site-packages/tensorflow/python/framework/dtypes.py:517: FutureWarning: Passing (type, 1) or '1type' as a synonym of type is deprecated; in a future version of numpy, it will be understood as (type, (1,)) / '(1,)type'.\n",
      "  _np_quint8 = np.dtype([(\"quint8\", np.uint8, 1)])\n",
      "/home/ace/.local/share/virtualenvs/plate-recognition-9zLroqXY/lib/python3.7/site-packages/tensorflow/python/framework/dtypes.py:518: FutureWarning: Passing (type, 1) or '1type' as a synonym of type is deprecated; in a future version of numpy, it will be understood as (type, (1,)) / '(1,)type'.\n",
      "  _np_qint16 = np.dtype([(\"qint16\", np.int16, 1)])\n",
      "/home/ace/.local/share/virtualenvs/plate-recognition-9zLroqXY/lib/python3.7/site-packages/tensorflow/python/framework/dtypes.py:519: FutureWarning: Passing (type, 1) or '1type' as a synonym of type is deprecated; in a future version of numpy, it will be understood as (type, (1,)) / '(1,)type'.\n",
      "  _np_quint16 = np.dtype([(\"quint16\", np.uint16, 1)])\n",
      "/home/ace/.local/share/virtualenvs/plate-recognition-9zLroqXY/lib/python3.7/site-packages/tensorflow/python/framework/dtypes.py:520: FutureWarning: Passing (type, 1) or '1type' as a synonym of type is deprecated; in a future version of numpy, it will be understood as (type, (1,)) / '(1,)type'.\n",
      "  _np_qint32 = np.dtype([(\"qint32\", np.int32, 1)])\n",
      "/home/ace/.local/share/virtualenvs/plate-recognition-9zLroqXY/lib/python3.7/site-packages/tensorflow/python/framework/dtypes.py:525: FutureWarning: Passing (type, 1) or '1type' as a synonym of type is deprecated; in a future version of numpy, it will be understood as (type, (1,)) / '(1,)type'.\n",
      "  np_resource = np.dtype([(\"resource\", np.ubyte, 1)])\n",
      "/home/ace/.local/share/virtualenvs/plate-recognition-9zLroqXY/lib/python3.7/site-packages/tensorboard/compat/tensorflow_stub/dtypes.py:541: FutureWarning: Passing (type, 1) or '1type' as a synonym of type is deprecated; in a future version of numpy, it will be understood as (type, (1,)) / '(1,)type'.\n",
      "  _np_qint8 = np.dtype([(\"qint8\", np.int8, 1)])\n",
      "/home/ace/.local/share/virtualenvs/plate-recognition-9zLroqXY/lib/python3.7/site-packages/tensorboard/compat/tensorflow_stub/dtypes.py:542: FutureWarning: Passing (type, 1) or '1type' as a synonym of type is deprecated; in a future version of numpy, it will be understood as (type, (1,)) / '(1,)type'.\n",
      "  _np_quint8 = np.dtype([(\"quint8\", np.uint8, 1)])\n",
      "/home/ace/.local/share/virtualenvs/plate-recognition-9zLroqXY/lib/python3.7/site-packages/tensorboard/compat/tensorflow_stub/dtypes.py:543: FutureWarning: Passing (type, 1) or '1type' as a synonym of type is deprecated; in a future version of numpy, it will be understood as (type, (1,)) / '(1,)type'.\n",
      "  _np_qint16 = np.dtype([(\"qint16\", np.int16, 1)])\n",
      "/home/ace/.local/share/virtualenvs/plate-recognition-9zLroqXY/lib/python3.7/site-packages/tensorboard/compat/tensorflow_stub/dtypes.py:544: FutureWarning: Passing (type, 1) or '1type' as a synonym of type is deprecated; in a future version of numpy, it will be understood as (type, (1,)) / '(1,)type'.\n",
      "  _np_quint16 = np.dtype([(\"quint16\", np.uint16, 1)])\n",
      "/home/ace/.local/share/virtualenvs/plate-recognition-9zLroqXY/lib/python3.7/site-packages/tensorboard/compat/tensorflow_stub/dtypes.py:545: FutureWarning: Passing (type, 1) or '1type' as a synonym of type is deprecated; in a future version of numpy, it will be understood as (type, (1,)) / '(1,)type'.\n",
      "  _np_qint32 = np.dtype([(\"qint32\", np.int32, 1)])\n",
      "/home/ace/.local/share/virtualenvs/plate-recognition-9zLroqXY/lib/python3.7/site-packages/tensorboard/compat/tensorflow_stub/dtypes.py:550: FutureWarning: Passing (type, 1) or '1type' as a synonym of type is deprecated; in a future version of numpy, it will be understood as (type, (1,)) / '(1,)type'.\n",
      "  np_resource = np.dtype([(\"resource\", np.ubyte, 1)])\n"
     ]
    }
   ],
   "source": [
    "import os\n",
    "import numpy as np\n",
    "from tqdm import tqdm_notebook as tqdm\n",
    "from sklearn.model_selection import train_test_split\n",
    "from keras.preprocessing.image import ImageDataGenerator, img_to_array, array_to_img, load_img, save_img"
   ]
  },
  {
   "cell_type": "code",
   "execution_count": 2,
   "metadata": {},
   "outputs": [
    {
     "name": "stdout",
     "output_type": "stream",
     "text": [
      "[info] Loading data...\n"
     ]
    },
    {
     "data": {
      "application/vnd.jupyter.widget-view+json": {
       "model_id": "39ebbf3ae6d0444e9774abfe2afdaa60",
       "version_major": 2,
       "version_minor": 0
      },
      "text/plain": [
       "HBox(children=(IntProgress(value=0, max=36), HTML(value='')))"
      ]
     },
     "metadata": {},
     "output_type": "display_data"
    },
    {
     "name": "stdout",
     "output_type": "stream",
     "text": [
      "\n",
      "[info] Spliting...\n",
      "character splited\n",
      "[info] saving...\n",
      "saved\n"
     ]
    }
   ],
   "source": [
    "seed_value = 1000\n",
    "\n",
    "class FilterDataset:\n",
    "    def __init__(self):\n",
    "        root_path = \"../../dataset\"\n",
    "        path_type = os.path.join(root_path, \"split-test-plates-crop-original\")\n",
    "        path = os.path.join(path_type, \"fine\")\n",
    "        self.__path_char = os.path.join(path, \"char-10\")\n",
    "        \n",
    "        path_split = os.path.join(path, \"char-split-10\")\n",
    "        path_train = os.path.join(path_split, \"train\")\n",
    "        path_test = os.path.join(path_split, \"test\")\n",
    "        \n",
    "        path_group = [path_split,\n",
    "                      path_train,\n",
    "                      path_test]\n",
    "        \n",
    "        self.__path_save = path_group[1:3]\n",
    "        \n",
    "        for path_g in path_group:\n",
    "            if not os.path.exists(path_g):\n",
    "                os.mkdir(path_g)\n",
    "        \n",
    "    def loading_data(self):\n",
    "        print('[info] Loading data...')\n",
    "        path = self.__path_char\n",
    "        \n",
    "        label_grouped = os.listdir(path)\n",
    "        label_sorted = sorted(label_grouped)\n",
    "        self.__label_images = []\n",
    "        for label in tqdm(label_sorted): # Limited\n",
    "            path_label = os.path.join(path, label)\n",
    "            images = []\n",
    "            for img_name in os.listdir(path_label):\n",
    "                img = load_img(os.path.join(path_label, img_name), color_mode='grayscale')\n",
    "                img_array = img_to_array(img)\n",
    "                images.append(img_array)\n",
    "            self.__label_images.append([label, images])\n",
    "        \n",
    "    def spliting_data(self):\n",
    "        print('[info] Spliting...')\n",
    "        randState = np.random.RandomState(seed_value)\n",
    "        \n",
    "        train_group = []\n",
    "        test_group = []\n",
    "        for label, image_group in self.__label_images:\n",
    "            train_images, test_images = train_test_split(image_group, test_size=0.2, random_state=randState)\n",
    "            train_group.append([label, train_images])\n",
    "            test_group.append([label, test_images])\n",
    "        print('character splited')\n",
    "        self.__splited_characters = [train_group, test_group]\n",
    "            \n",
    "    def saving_data(self):\n",
    "        print('[info] saving...')\n",
    "        for saved_path, splited_char in zip(self.__path_save, self.__splited_characters):\n",
    "            for label, images in splited_char:\n",
    "                path = os.path.join(saved_path, label)\n",
    "                if not os.path.exists(path):\n",
    "                    os.mkdir(path)\n",
    "                    \n",
    "                name = 1\n",
    "                for image in images:\n",
    "                    save_img(os.path.join(path, str(name)+\".jpg\"), image)\n",
    "                    name += 1\n",
    "        print('saved')\n",
    "                \n",
    "if __name__=='__main__':\n",
    "    fd = FilterDataset()\n",
    "    fd.loading_data()\n",
    "    fd.spliting_data()\n",
    "    fd.saving_data()"
   ]
  },
  {
   "cell_type": "code",
   "execution_count": null,
   "metadata": {},
   "outputs": [],
   "source": []
  }
 ],
 "metadata": {
  "kernelspec": {
   "display_name": "Python 3",
   "language": "python",
   "name": "python3"
  },
  "language_info": {
   "codemirror_mode": {
    "name": "ipython",
    "version": 3
   },
   "file_extension": ".py",
   "mimetype": "text/x-python",
   "name": "python",
   "nbconvert_exporter": "python",
   "pygments_lexer": "ipython3",
   "version": "3.6.8"
  }
 },
 "nbformat": 4,
 "nbformat_minor": 2
}
