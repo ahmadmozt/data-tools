{
 "cells": [
  {
   "cell_type": "markdown",
   "metadata": {},
   "source": [
    "# Mengambil gambar berdasarkan csv file\n",
    "\n",
    "Note :\n"
   ]
  },
  {
   "cell_type": "code",
   "execution_count": 1,
   "metadata": {},
   "outputs": [],
   "source": [
    "import os\n",
    "import cv2\n",
    "import csv\n",
    "from tqdm.notebook import tqdm"
   ]
  },
  {
   "cell_type": "code",
   "execution_count": 2,
   "metadata": {},
   "outputs": [
    {
     "data": {
      "application/vnd.jupyter.widget-view+json": {
       "model_id": "344f7cf9daba43da982777b28031881a",
       "version_major": 2,
       "version_minor": 0
      },
      "text/plain": [
       "HBox(children=(IntProgress(value=0, max=1806), HTML(value='')))"
      ]
     },
     "metadata": {},
     "output_type": "display_data"
    },
    {
     "name": "stdout",
     "output_type": "stream",
     "text": [
      "\n"
     ]
    }
   ],
   "source": [
    "class SplitDataset:\n",
    "    def __init__(self):\n",
    "        #self.__f_csv = \"for-train.csv\"\n",
    "        #self.__img_dir = \"images\"\n",
    "        #self.__save_dir = \"for-train\"\n",
    "    \n",
    "    def creating_dir(self):\n",
    "        if not os.path.exists(self.__save_dir):\n",
    "            os.mkdir(self.__save_dir)\n",
    "    \n",
    "    def loading_csv(self):\n",
    "        self.__img_name = []\n",
    "        \n",
    "        with open(self.__f_csv) as f:\n",
    "            reader = csv.reader(f)\n",
    "            next(reader, None)\n",
    "            \n",
    "            for row in reader:\n",
    "                self.__img_name.append(row[0])\n",
    "                \n",
    "    def saving_img(self):\n",
    "        for img_name in tqdm(self.__img_name):\n",
    "            img = cv2.imread(os.path.join(self.__img_dir, img_name))\n",
    "            cv2.imwrite(os.path.join(self.__save_dir, img_name), img)\n",
    "    \n",
    "if __name__=='__main__':\n",
    "    sd = SplitDataset()\n",
    "    sd.creating_dir()\n",
    "    sd.loading_csv()\n",
    "    sd.saving_img()"
   ]
  },
  {
   "cell_type": "code",
   "execution_count": null,
   "metadata": {},
   "outputs": [],
   "source": []
  }
 ],
 "metadata": {
  "kernelspec": {
   "display_name": "Python 3",
   "language": "python",
   "name": "python3"
  },
  "language_info": {
   "codemirror_mode": {
    "name": "ipython",
    "version": 3
   },
   "file_extension": ".py",
   "mimetype": "text/x-python",
   "name": "python",
   "nbconvert_exporter": "python",
   "pygments_lexer": "ipython3",
   "version": "3.6.8"
  }
 },
 "nbformat": 4,
 "nbformat_minor": 2
}
