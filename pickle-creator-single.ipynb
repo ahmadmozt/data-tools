{
 "cells": [
  {
   "cell_type": "markdown",
   "metadata": {},
   "source": [
    "# Pickle creator - Test\n",
    "\n",
    "v1.0.1 test"
   ]
  },
  {
   "cell_type": "code",
   "execution_count": 1,
   "metadata": {},
   "outputs": [
    {
     "data": {
      "application/vnd.jupyter.widget-view+json": {
       "model_id": "bc202521f27e4ad882ef5440f76f91ac",
       "version_major": 2,
       "version_minor": 0
      },
      "text/plain": [
       "HBox(children=(FloatProgress(value=0.0, max=36.0), HTML(value='')))"
      ]
     },
     "metadata": {},
     "output_type": "display_data"
    },
    {
     "name": "stdout",
     "output_type": "stream",
     "text": [
      "\n",
      "\n",
      "5400 data test-24-150 loaded\n",
      "\n",
      "Class : ['0', '1', '2', '3', '4', '5', '6', '7', '8', '9', 'A', 'B', 'C', 'D', 'E', 'F', 'G', 'H', 'I', 'J', 'K', 'L', 'M', 'N', 'O', 'P', 'Q', 'R', 'S', 'T', 'U', 'V', 'W', 'X', 'Y', 'Z']\n",
      "\n",
      "Number of class : 36 class\n",
      "pickle saved\n"
     ]
    }
   ],
   "source": [
    "import os\n",
    "import cv2\n",
    "import pickle\n",
    "from tqdm.notebook import tqdm\n",
    "\n",
    "class PickleCreator:\n",
    "    def __init__(self):\n",
    "        #self.__path_save = \"test-24-aug.pkl\"\n",
    "        #self.__path_test = \"test-24-150\"\n",
    "        \n",
    "    def loading_char_method(self, path_data):\n",
    "        loaded_images = []\n",
    "        loaded_labels = []\n",
    "        self.__class_labels = sorted(os.listdir(path_data)) # label class\n",
    "        self.__number_of_class = len(self.__class_labels) # jumlah class\n",
    "\n",
    "        for class_label in tqdm(self.__class_labels):\n",
    "            class_index = self.__class_labels.index(class_label)\n",
    "            path_img = os.path.join(path_data, class_label)\n",
    "\n",
    "            for img_name in os.listdir(path_img):\n",
    "                img = cv2.imread(os.path.join(path_img, img_name), cv2.IMREAD_GRAYSCALE)\n",
    "                loaded_images.append(img)\n",
    "                loaded_labels.append(class_index)\n",
    "\n",
    "        return loaded_images, loaded_labels\n",
    "\n",
    "    def loading_char(self):      \n",
    "        self.__x_test, self.__y_test = self.loading_char_method(self.__path_test)\n",
    "        print(f'\\n{len(self.__y_test)} data {os.path.basename(self.__path_test)} loaded')\n",
    "        print(f'\\nClass : {self.__class_labels}')\n",
    "        print(f'\\nNumber of class : {self.__number_of_class} class')\n",
    "        \n",
    "    def saving_pickle(self):\n",
    "        path_save = self.__path_save\n",
    "        \n",
    "        save_group = [self.__x_test,\n",
    "                      self.__y_test,\n",
    "                     ]\n",
    "        \n",
    "        p_out = open(path_save, \"wb\")\n",
    "        pickle.dump(save_group, p_out)\n",
    "        p_out.close()\n",
    "        print('pickle saved')\n",
    "        \n",
    "if __name__=='__main__':\n",
    "    pc = PickleCreator()\n",
    "    pc.loading_char()\n",
    "    pc.saving_pickle()"
   ]
  },
  {
   "cell_type": "code",
   "execution_count": null,
   "metadata": {},
   "outputs": [],
   "source": []
  }
 ],
 "metadata": {
  "kernelspec": {
   "display_name": "Python 3",
   "language": "python",
   "name": "python3"
  },
  "language_info": {
   "codemirror_mode": {
    "name": "ipython",
    "version": 3
   },
   "file_extension": ".py",
   "mimetype": "text/x-python",
   "name": "python",
   "nbconvert_exporter": "python",
   "pygments_lexer": "ipython3",
   "version": "3.6.8"
  }
 },
 "nbformat": 4,
 "nbformat_minor": 2
}
