{
 "cells": [
  {
   "cell_type": "code",
   "execution_count": 1,
   "metadata": {},
   "outputs": [
    {
     "name": "stderr",
     "output_type": "stream",
     "text": [
      "Using TensorFlow backend.\n"
     ]
    }
   ],
   "source": [
    "import os\n",
    "import csv\n",
    "from tqdm import tqdm\n",
    "from statistics import mean, median, variance, stdev, mode\n",
    "from keras.preprocessing.image import load_img, img_to_array"
   ]
  },
  {
   "cell_type": "code",
   "execution_count": 4,
   "metadata": {},
   "outputs": [
    {
     "name": "stderr",
     "output_type": "stream",
     "text": [
      "100%|██████████| 36/36 [00:07<00:00,  4.75it/s]\n"
     ]
    },
    {
     "name": "stdout",
     "output_type": "stream",
     "text": [
      "data amount collected\n",
      "data stat collected\n",
      "image dimension stat collected\n"
     ]
    }
   ],
   "source": [
    "class DataStatistics:\n",
    "    def __init__(self):\n",
    "        self._dir_loc = \"train-24-400\"\n",
    "        self._amount_data = []\n",
    "        self._height = []\n",
    "        self._width = []\n",
    "    \n",
    "    def loading_data(self):\n",
    "        class_name = os.listdir(self._dir_loc)\n",
    "        \n",
    "        for class_char in tqdm(class_name):\n",
    "            char_path = os.path.join(self._dir_loc, class_char)\n",
    "            self._amount_data.append([class_char, len(os.listdir(char_path))]) # Class and Amount\n",
    "            \n",
    "            for img_name in os.listdir(char_path):\n",
    "                img = load_img(os.path.join(char_path, img_name))\n",
    "                img_array = img_to_array(img)\n",
    "                self._height.append(['height', img_array.shape[0]])\n",
    "                self._width.append(['width', img_array.shape[1]])                \n",
    "    \n",
    "    def looper(self, var):\n",
    "        result = [value[1] for value in var]\n",
    "        \n",
    "        return result\n",
    "    \n",
    "    def cal(self, val):\n",
    "        if val[0][0]=='height':\n",
    "            sum_val = 'height'\n",
    "        elif val[0][0]=='width':\n",
    "            sum_val = 'width'\n",
    "        else:\n",
    "            sum_val = sum(self.looper(val))\n",
    "            \n",
    "        min_val = min(self.looper(val))\n",
    "        max_val = max(self.looper(val))\n",
    "        mean_val = mean(self.looper(val))\n",
    "        med_val = median(self.looper(val))\n",
    "        \n",
    "        try:\n",
    "            mod_val = mode(self.looper(val))\n",
    "        except:\n",
    "            mod_val = None\n",
    "        \n",
    "        variance_val = variance(self.looper(val))\n",
    "        stdev_val = stdev(self.looper(val))\n",
    "        \n",
    "        return [sum_val, min_val, max_val, mean_val, med_val, mod_val, variance_val, stdev_val]\n",
    "    \n",
    "    def data_amount(self):\n",
    "        csv_file = open(\"data-amount.csv\", \"w\")\n",
    "        with csv_file:\n",
    "            writer = csv.writer(csv_file)\n",
    "            writer.writerow(['class', 'amount'])\n",
    "            writer.writerows(self._amount_data)\n",
    "        csv_file.close()\n",
    "        \n",
    "        print('data amount collected')\n",
    "    \n",
    "    def data_stat(self):\n",
    "        stat = self.cal(self._amount_data)\n",
    "        \n",
    "        csv_file = open(\"data-stat.csv\", \"w\")\n",
    "        with csv_file:\n",
    "            writer = csv.writer(csv_file)\n",
    "            writer.writerow(['total', 'min', 'max', 'mean', 'median', 'mode', 'variance', 'stdev'])\n",
    "            writer.writerow(stat)\n",
    "        csv_file.close()\n",
    "        \n",
    "        print('data stat collected')\n",
    "    \n",
    "    def img_dimens_stat(self):\n",
    "        height = self.cal(self._height)\n",
    "        width = self.cal(self._width)\n",
    "        \n",
    "        csv_file = open(\"image-dimens-stat.csv\", \"w\")\n",
    "        with csv_file:\n",
    "            writer = csv.writer(csv_file)\n",
    "            writer.writerow(['dimension', 'min', 'max', 'mean', 'median', 'mode', 'variance', 'stdev'])\n",
    "            writer.writerow(height)\n",
    "            writer.writerow(width)\n",
    "        csv_file.close()\n",
    "        \n",
    "        print('image dimension stat collected')\n",
    "            \n",
    "if __name__=='__main__':\n",
    "    ds = DataStatistics()\n",
    "    ds.loading_data()\n",
    "    ds.data_amount()\n",
    "    ds.data_stat()\n",
    "    ds.img_dimens_stat()"
   ]
  },
  {
   "cell_type": "code",
   "execution_count": null,
   "metadata": {},
   "outputs": [],
   "source": []
  }
 ],
 "metadata": {
  "kernelspec": {
   "display_name": "Python 3",
   "language": "python",
   "name": "python3"
  },
  "language_info": {
   "codemirror_mode": {
    "name": "ipython",
    "version": 3
   },
   "file_extension": ".py",
   "mimetype": "text/x-python",
   "name": "python",
   "nbconvert_exporter": "python",
   "pygments_lexer": "ipython3",
   "version": "3.6.8"
  }
 },
 "nbformat": 4,
 "nbformat_minor": 2
}
