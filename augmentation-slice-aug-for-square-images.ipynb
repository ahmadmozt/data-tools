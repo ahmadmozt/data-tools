{
 "cells": [
  {
   "cell_type": "markdown",
   "metadata": {},
   "source": [
    "# Data Augmentation for certain amount\n",
    "\n",
    "\n",
    "v1.0.3\n",
    "\n",
    "If data less than x, use data augmentation"
   ]
  },
  {
   "cell_type": "code",
   "execution_count": 1,
   "metadata": {},
   "outputs": [
    {
     "name": "stderr",
     "output_type": "stream",
     "text": [
      "Using TensorFlow backend.\n"
     ]
    }
   ],
   "source": [
    "import os\n",
    "import numpy as np\n",
    "from tqdm.notebook import tqdm\n",
    "from keras.preprocessing.image import ImageDataGenerator, img_to_array, array_to_img, load_img, save_img"
   ]
  },
  {
   "cell_type": "code",
   "execution_count": 2,
   "metadata": {},
   "outputs": [
    {
     "data": {
      "application/vnd.jupyter.widget-view+json": {
       "model_id": "cdc282b40dc54cc185bbcf3fd2e4fdef",
       "version_major": 2,
       "version_minor": 0
      },
      "text/plain": [
       "HBox(children=(FloatProgress(value=0.0, max=36.0), HTML(value='')))"
      ]
     },
     "metadata": {},
     "output_type": "display_data"
    },
    {
     "name": "stdout",
     "output_type": "stream",
     "text": [
      "\n",
      "augmentation data succeed\n"
     ]
    }
   ],
   "source": [
    "seed_value = 1000\n",
    "batchs_size = 1\n",
    "\n",
    "data_type = \"test\"\n",
    "char_size = 24\n",
    "\n",
    "if data_type==\"train\":\n",
    "    char_limit = 400\n",
    "elif data_type==\"val\":\n",
    "    char_limit = 50\n",
    "elif data_type==\"test\":\n",
    "    char_limit = 100\n",
    "else:\n",
    "    char_limit = None\n",
    "\n",
    "class DataAugmentation:\n",
    "    def __init__(self):\n",
    "        self._path_data = \"../../../extraction/2-release/80-20-ext/\" + data_type + \"/char-\" + str(char_size)\n",
    "        self._save_path = data_type + \"-\" + str(char_size) + \"-\" + str(char_limit)\n",
    "        \n",
    "        if not os.path.exists(self._save_path):\n",
    "            os.mkdir(self._save_path)\n",
    "        \n",
    "    def is_augmenting(self):\n",
    "        \"\"\" Another Parameter\n",
    "        #height_shift_range = 0.1,\n",
    "        #shear_range = 0.1,\n",
    "        #zoom_range = 0.1,\n",
    "        #width_shift_range = 0.1,\n",
    "        \"\"\"\n",
    "        \n",
    "        randState = np.random.RandomState(seed_value)\n",
    "        \n",
    "        datagen = ImageDataGenerator(\n",
    "            rotation_range = 10,\n",
    "            shear_range = 0.1,\n",
    "            brightness_range = (0.5, 1.5), # 1 is neutral\n",
    "            fill_mode = 'nearest')\n",
    "        \n",
    "        classes = sorted(os.listdir(self._path_data))\n",
    "        \n",
    "        for class_char in tqdm(classes):\n",
    "            path_classes = os.path.join(self._path_data, class_char)\n",
    "            path_save = os.path.join(self._save_path, class_char)\n",
    "            \n",
    "            if not os.path.exists(path_save):\n",
    "                os.mkdir(path_save)\n",
    "            \n",
    "            images = []\n",
    "            for img_name in os.listdir(path_classes):\n",
    "                loaded_img = load_img(os.path.join(path_classes, img_name), color_mode='grayscale')\n",
    "                img_array = img_to_array(loaded_img)\n",
    "                images.append(img_array)\n",
    "            \n",
    "            if len(images) > char_limit:\n",
    "                images = randState.permutation(images)\n",
    "                images = images[:char_limit]\n",
    "                i = 1\n",
    "                for img in images:\n",
    "                    save_img(os.path.join(path_save, str(i)+\".jpg\"), img)\n",
    "                    i += 1\n",
    "            elif len(images) == char_limit:\n",
    "                i = 1\n",
    "                for img in images:\n",
    "                    save_img(os.path.join(path_save, str(i)+\".jpg\"), img)\n",
    "                    i += 1\n",
    "            else:\n",
    "                images = np.array(images).reshape((-1,) + images[0].shape) # 4 DImension\n",
    "                \n",
    "                i = 1\n",
    "                for batch in datagen.flow(images, batch_size=batchs_size,\n",
    "                                          save_to_dir=path_save, save_prefix=class_char, save_format='jpg'):\n",
    "                    i += 1\n",
    "                    \n",
    "                    if i > char_limit:\n",
    "                        break\n",
    "        \n",
    "        print('augmentation data succeed')\n",
    "                \n",
    "if __name__=='__main__':\n",
    "    da = DataAugmentation()\n",
    "    da.is_augmenting()"
   ]
  },
  {
   "cell_type": "code",
   "execution_count": null,
   "metadata": {},
   "outputs": [],
   "source": []
  }
 ],
 "metadata": {
  "kernelspec": {
   "display_name": "Python 3",
   "language": "python",
   "name": "python3"
  },
  "language_info": {
   "codemirror_mode": {
    "name": "ipython",
    "version": 3
   },
   "file_extension": ".py",
   "mimetype": "text/x-python",
   "name": "python",
   "nbconvert_exporter": "python",
   "pygments_lexer": "ipython3",
   "version": "3.6.8"
  }
 },
 "nbformat": 4,
 "nbformat_minor": 2
}
