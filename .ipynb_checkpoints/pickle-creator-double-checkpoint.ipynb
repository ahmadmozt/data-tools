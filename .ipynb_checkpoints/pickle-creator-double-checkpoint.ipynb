{
 "cells": [
  {
   "cell_type": "markdown",
   "metadata": {},
   "source": [
    "# Pickle Creator - Train-Val\n",
    "\n",
    "### v2.1.1"
   ]
  },
  {
   "cell_type": "code",
   "execution_count": 1,
   "metadata": {},
   "outputs": [
    {
     "data": {
      "application/vnd.jupyter.widget-view+json": {
       "model_id": "3d794948710a4893ad1523e761f3dd20",
       "version_major": 2,
       "version_minor": 0
      },
      "text/plain": [
       "HBox(children=(FloatProgress(value=0.0, max=36.0), HTML(value='')))"
      ]
     },
     "metadata": {},
     "output_type": "display_data"
    },
    {
     "name": "stdout",
     "output_type": "stream",
     "text": [
      "\n"
     ]
    },
    {
     "data": {
      "application/vnd.jupyter.widget-view+json": {
       "model_id": "b2b035d5fc3148088b9fe4caf13ca6c6",
       "version_major": 2,
       "version_minor": 0
      },
      "text/plain": [
       "HBox(children=(FloatProgress(value=0.0, max=36.0), HTML(value='')))"
      ]
     },
     "metadata": {},
     "output_type": "display_data"
    },
    {
     "name": "stdout",
     "output_type": "stream",
     "text": [
      "\n",
      "char loaded\n",
      "char shuffled\n",
      "\n",
      "14400 data train-24-400 loaded\n",
      "\n",
      "3600 data test-24-100 loaded\n",
      "\n",
      "Class : ['0', '1', '2', '3', '4', '5', '6', '7', '8', '9', 'A', 'B', 'C', 'D', 'E', 'F', 'G', 'H', 'I', 'J', 'K', 'L', 'M', 'N', 'O', 'P', 'Q', 'R', 'S', 'T', 'U', 'V', 'W', 'X', 'Y', 'Z']\n",
      "\n",
      "Number of class : 36 class\n",
      "pickle saved\n"
     ]
    }
   ],
   "source": [
    "import os\n",
    "import cv2\n",
    "import pickle\n",
    "import numpy as np\n",
    "from tqdm.notebook import tqdm\n",
    "\n",
    "seed_value = 1000\n",
    "\n",
    "class PickleCreator:\n",
    "    def __init__(self):\n",
    "        self.__path_save = \"train-test-80-20-24-aug.pkl\"\n",
    "        \n",
    "        self._path_train = \"train-24-400\"\n",
    "        self._path_test = \"test-24-100\"\n",
    "        \n",
    "    def loading_img(self, path_data):\n",
    "        loaded_images = []\n",
    "        \n",
    "        self.__class_labels = sorted(os.listdir(path_data)) # label class\n",
    "        self.__number_of_class = len(self.__class_labels) # jumlah class\n",
    "\n",
    "        for class_label in tqdm(self.__class_labels):\n",
    "            class_index = self.__class_labels.index(class_label)\n",
    "            path_img = os.path.join(path_data, class_label)\n",
    "\n",
    "            for img_name in os.listdir(path_img):\n",
    "                img = cv2.imread(\n",
    "                    os.path.join(path_img, img_name), cv2.IMREAD_GRAYSCALE)\n",
    "                loaded_images.append([img, class_index])\n",
    "\n",
    "        return loaded_images\n",
    "\n",
    "    def loading_char(self):\n",
    "        self.__loaded_train = self.loading_img(self._path_train)\n",
    "        self.__loaded_test = self.loading_img(self._path_test)\n",
    "        \n",
    "        print('char loaded')\n",
    "        \n",
    "    def shuffling_char(self):\n",
    "        randState = np.random.RandomState(seed_value)\n",
    "        \n",
    "        self.__loaded_train = randState.permutation(self.__loaded_train)\n",
    "        self.__loaded_test = randState.permutation(self.__loaded_test)\n",
    "        \n",
    "        print('char shuffled')\n",
    "        \n",
    "    def extracting_char(self):\n",
    "        self.__x_train = [x[0] for x in self.__loaded_train]\n",
    "        self.__y_train = [y[1] for y in self.__loaded_train]\n",
    "        \n",
    "        self.__x_test = [x[0] for x in self.__loaded_test]\n",
    "        self.__y_test = [y[1] for y in self.__loaded_test]\n",
    "        \n",
    "        print(f'\\n{len(self.__y_train)} data {os.path.basename(self._path_train)} loaded')\n",
    "        print(f'\\n{len(self.__y_test)} data {os.path.basename(self._path_test)} loaded')\n",
    "        print(f'\\nClass : {self.__class_labels}')\n",
    "        print(f'\\nNumber of class : {self.__number_of_class} class')\n",
    "        \n",
    "    def saving_pickle(self):\n",
    "        path_save = self.__path_save\n",
    "        \n",
    "        save_group = [self.__x_train,\n",
    "                      self.__y_train,\n",
    "                      self.__x_test,\n",
    "                      self.__y_test,\n",
    "                      self.__number_of_class,\n",
    "                      self.__class_labels\n",
    "                     ]\n",
    "        \n",
    "        p_out = open(path_save, \"wb\")\n",
    "        pickle.dump(save_group, p_out)\n",
    "        p_out.close()\n",
    "        print('pickle saved')\n",
    "        \n",
    "if __name__=='__main__':\n",
    "    pc = PickleCreator()\n",
    "    pc.loading_char()\n",
    "    pc.shuffling_char()\n",
    "    pc.extracting_char()\n",
    "    pc.saving_pickle()"
   ]
  },
  {
   "cell_type": "markdown",
   "metadata": {},
   "source": [
    "### Log\n",
    "\n",
    "2019-01-13 Update : add shuffle"
   ]
  },
  {
   "cell_type": "code",
   "execution_count": null,
   "metadata": {},
   "outputs": [],
   "source": []
  }
 ],
 "metadata": {
  "kernelspec": {
   "display_name": "Python 3",
   "language": "python",
   "name": "python3"
  },
  "language_info": {
   "codemirror_mode": {
    "name": "ipython",
    "version": 3
   },
   "file_extension": ".py",
   "mimetype": "text/x-python",
   "name": "python",
   "nbconvert_exporter": "python",
   "pygments_lexer": "ipython3",
   "version": "3.6.8"
  }
 },
 "nbformat": 4,
 "nbformat_minor": 2
}
