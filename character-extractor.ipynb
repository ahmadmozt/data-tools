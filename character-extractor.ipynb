{
 "cells": [
  {
   "cell_type": "markdown",
   "metadata": {},
   "source": [
    "# Character Extractor from CSV and Image\n",
    "### v2.0.5"
   ]
  },
  {
   "cell_type": "code",
   "execution_count": 1,
   "metadata": {
    "scrolled": false
   },
   "outputs": [
    {
     "name": "stdout",
     "output_type": "stream",
     "text": [
      "path checked\n"
     ]
    },
    {
     "data": {
      "application/vnd.jupyter.widget-view+json": {
       "model_id": "abe1888397cf435a8cae7babbbf278df",
       "version_major": 2,
       "version_minor": 0
      },
      "text/plain": [
       "HBox(children=(FloatProgress(value=0.0, max=602.0), HTML(value='')))"
      ]
     },
     "metadata": {},
     "output_type": "display_data"
    },
    {
     "name": "stdout",
     "output_type": "stream",
     "text": [
      "\n"
     ]
    }
   ],
   "source": [
    "import os\n",
    "import csv\n",
    "import cv2\n",
    "import numpy as np\n",
    "from itertools import groupby\n",
    "from tqdm.notebook import tqdm\n",
    "\n",
    "class ExtractCharacter:\n",
    "    def __init__(self):\n",
    "        #type_data = \"test\"\n",
    "        self.__img_path = \"../../../sources/4-release/80-20/\"+type_data+\"/images\"\n",
    "        self.__f_csv = \"../../../sources/4-release/80-20/\"+type_data+\"/\"+type_data+\".csv\"\n",
    "        path_save = type_data\n",
    "        \n",
    "        self.__char_path = os.path.join(path_save, \"characters\")\n",
    "        self.__plate_path = os.path.join(path_save, \"plates\")\n",
    "        self.__path_group = [path_save,\n",
    "                             self.__char_path,\n",
    "                             self.__plate_path\n",
    "                           ]\n",
    "        \n",
    "    def checking_path(self):\n",
    "        for path in self.__path_group:\n",
    "            if not(os.path.exists(path)):\n",
    "                os.mkdir(path)\n",
    "        print('path checked')\n",
    "        \n",
    "    def extracting_location(self, location):\n",
    "        w1, h1, w2, h2 = map(int, location.split('_'))\n",
    "        he1 = h1\n",
    "        he2 = h1+h2\n",
    "        wi1 = w1\n",
    "        wi2 = w1+w2\n",
    "        plate_coordinates = [he1, he2, wi1, wi2] # Plate coordinate\n",
    "        \n",
    "        return plate_coordinates\n",
    "    \n",
    "    def loading_method(self, csv_file):\n",
    "        # csv = [file_name.jpg, 'plat_number', 'char location 1', 'char location 2', cont...]\n",
    "        csv_data = []\n",
    "        with open(csv_file) as f:\n",
    "            reader = csv.reader(f)\n",
    "            next(reader, None)\n",
    "            \n",
    "            for row in reader:\n",
    "                image_name = row[0]\n",
    "                plate_location = image_name.split('.')[0].split('-')[1]\n",
    "                extracted_location = self.extracting_location(plate_location)\n",
    "                \n",
    "                plate_number = row[1].replace('_', '')\n",
    "                char_number = len(plate_number)\n",
    "                char_list = list(plate_number)\n",
    "                \n",
    "                char_group = []\n",
    "                up = 0\n",
    "                for char_coordinate in range(2, char_number+2):\n",
    "                    w, h, w1, h1 = map(int, row[char_coordinate].replace('[','').replace(']','').split(','))\n",
    "                    he1 = h\n",
    "                    he2 = h + h1\n",
    "                    wi1 = w\n",
    "                    wi2 = w + w1\n",
    "                    char = char_list[up]\n",
    "                    char_group.append([char, he1, he2, wi1, wi2])\n",
    "                    up += 1\n",
    "                csv_data.append([image_name, extracted_location, plate_number, char_group])\n",
    "        \n",
    "        return csv_data\n",
    "        \n",
    "    def load_csv(self):\n",
    "        self.__csv_data = self.loading_method(self.__f_csv)\n",
    "        \n",
    "    def loading_character(self):\n",
    "        plate_path = self.__plate_path\n",
    "        char_path = self.__char_path\n",
    "        csv_data = self.__csv_data\n",
    "        \n",
    "        # Fname, plate_coordinates, plate_number, characters\n",
    "        name = 1\n",
    "        for row in tqdm(csv_data):\n",
    "            img = cv2.imread(os.path.join(self.__img_path, row[0]), cv2.IMREAD_GRAYSCALE)\n",
    "            cropped_plate = img[row[1][0]:row[1][1], row[1][2]:row[1][3]]\n",
    "            cv2.imwrite(os.path.join(plate_path, row[0]), cropped_plate) # Save Plates\n",
    "            \n",
    "            for char, height1, height2, width1, width2 in row[3]:\n",
    "                cropped_img = img[height1:height2, width1:width2]\n",
    "                \n",
    "                path = os.path.join(char_path, char)\n",
    "                if not os.path.exists(path):\n",
    "                    os.mkdir(path)\n",
    "                cv2.imwrite(os.path.join(path, str(name)+\".jpg\"), cropped_img)\n",
    "                name += 1\n",
    "\n",
    "if __name__=='__main__':\n",
    "    ec = ExtractCharacter()\n",
    "    ec.checking_path()\n",
    "    ec.load_csv()\n",
    "    ec.loading_character()"
   ]
  },
  {
   "cell_type": "code",
   "execution_count": null,
   "metadata": {},
   "outputs": [],
   "source": []
  }
 ],
 "metadata": {
  "kernelspec": {
   "display_name": "Python 3",
   "language": "python",
   "name": "python3"
  },
  "language_info": {
   "codemirror_mode": {
    "name": "ipython",
    "version": 3
   },
   "file_extension": ".py",
   "mimetype": "text/x-python",
   "name": "python",
   "nbconvert_exporter": "python",
   "pygments_lexer": "ipython3",
   "version": "3.6.8"
  }
 },
 "nbformat": 4,
 "nbformat_minor": 2
}
