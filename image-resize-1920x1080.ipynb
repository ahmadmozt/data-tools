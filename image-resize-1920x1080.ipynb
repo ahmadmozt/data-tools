{
 "cells": [
  {
   "cell_type": "markdown",
   "metadata": {},
   "source": [
    "# Image Resize 1920 x 1080\n",
    "<br>"
   ]
  },
  {
   "cell_type": "code",
   "execution_count": null,
   "metadata": {
    "scrolled": false
   },
   "outputs": [],
   "source": [
    "import os\n",
    "import cv2\n",
    "from tqdm import tqdm_notebook as tqdm\n",
    "\n",
    "class ResizeImage:\n",
    "    def __init__(self):\n",
    "        self.__img_size = (1920, 1080)\n",
    "        self.__path_img = \"image\"\n",
    "        self.__path_save_img = \"result\"\n",
    "\n",
    "    def resizing_1920x1080(self, image):\n",
    "        old_size = image.shape[:2]\n",
    "        \n",
    "        if old_size[0]<self.__img_size[1] and old_size[1]<self.__img_size[0]:\n",
    "            delta_w = self.__img_size[0] - old_size[1]\n",
    "            delta_h = self.__img_size[1] - old_size[0]\n",
    "            \n",
    "        else:\n",
    "            ratio = float(self.__img_size[1])/min(old_size)\n",
    "            new_size = tuple([int(x*ratio) for x in old_size])\n",
    "            image = cv2.resize(image, (new_size[1], new_size[0]))\n",
    "\n",
    "            delta_w = self.__img_size[0] - new_size[1]\n",
    "            delta_h = self.__img_size[1] - new_size[0]\n",
    "        \n",
    "        top, bottom = delta_h//2, delta_h-(delta_h//2)\n",
    "        left, right = delta_w//2, delta_w-(delta_w//2)\n",
    "        #print(top, bottom, left, right)\n",
    "        \n",
    "        color = [0, 0, 0]\n",
    "        new_image = cv2.copyMakeBorder(\n",
    "            image, top, bottom, left, right, cv2.BORDER_CONSTANT, value=color)\n",
    "        \n",
    "        return new_image\n",
    "    \n",
    "    def loading_image(self):\n",
    "        for img_name in tqdm(os.listdir(self.__path_img)):\n",
    "            img = cv2.imread(os.path.join(self.__path_img, img_name))\n",
    "            resize_img = self.resizing_1920x1080(img)\n",
    "            cv2.imwrite(os.path.join(self.__path_save_img, img_name), resize_img)\n",
    "    \n",
    "    def load_csv(self):\n",
    "        self.__csv_data = self.loading_method(self.__csv_images)\n",
    "        \n",
    "    def saving_character(self):\n",
    "        for saving_path, splited_group in zip(self.__path_save, self.__splited_characters): # Saving path\n",
    "            for class_path, images in splited_group: # Label path\n",
    "                path = os.path.join(saving_path, class_path)\n",
    "                if not(os.path.exists(path)):\n",
    "                    os.mkdir(path)\n",
    "                name = 1\n",
    "                for class_label, image in images:\n",
    "                    cv2.imwrite(os.path.join(path, str(name)+\".jpg\"), image)\n",
    "                    name +=1\n",
    "        print('character saved')\n",
    "\n",
    "if __name__=='__main__':\n",
    "    ri = ResizeImage()\n",
    "    ri.loading_image()"
   ]
  },
  {
   "cell_type": "code",
   "execution_count": null,
   "metadata": {},
   "outputs": [],
   "source": []
  }
 ],
 "metadata": {
  "kernelspec": {
   "display_name": "Python 3",
   "language": "python",
   "name": "python3"
  },
  "language_info": {
   "codemirror_mode": {
    "name": "ipython",
    "version": 3
   },
   "file_extension": ".py",
   "mimetype": "text/x-python",
   "name": "python",
   "nbconvert_exporter": "python",
   "pygments_lexer": "ipython3",
   "version": "3.7.4"
  }
 },
 "nbformat": 4,
 "nbformat_minor": 2
}
