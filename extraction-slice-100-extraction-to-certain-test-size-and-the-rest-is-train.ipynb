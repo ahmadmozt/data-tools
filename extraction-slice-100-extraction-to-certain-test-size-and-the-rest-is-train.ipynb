{
 "cells": [
  {
   "cell_type": "markdown",
   "metadata": {},
   "source": [
    "# Get Test size for certain size\n",
    "# Slice from 100 extraction and the rest is train"
   ]
  },
  {
   "cell_type": "code",
   "execution_count": 1,
   "metadata": {},
   "outputs": [
    {
     "name": "stdout",
     "output_type": "stream",
     "text": [
      "path checked\n",
      "saving path created\n",
      "train test path created\n"
     ]
    },
    {
     "name": "stderr",
     "output_type": "stream",
     "text": [
      "/home/mushthofa/.local/share/virtualenvs/plate-recognition-Rfek4wga/lib/python3.6/site-packages/ipykernel_launcher.py:37: TqdmDeprecationWarning: This function will be removed in tqdm==5.0.0\n",
      "Please use `tqdm.notebook.tqdm` instead of `tqdm.tqdm_notebook`\n"
     ]
    },
    {
     "data": {
      "application/vnd.jupyter.widget-view+json": {
       "model_id": "cadbd497f6c74b98b15080f367d5452b",
       "version_major": 2,
       "version_minor": 0
      },
      "text/plain": [
       "HBox(children=(FloatProgress(value=0.0, max=36.0), HTML(value='')))"
      ]
     },
     "metadata": {},
     "output_type": "display_data"
    },
    {
     "name": "stdout",
     "output_type": "stream",
     "text": [
      "\n",
      "extraction complited\n"
     ]
    }
   ],
   "source": [
    "import os\n",
    "import sys\n",
    "from shutil import copyfile\n",
    "from tqdm import tqdm_notebook as tqdm\n",
    "from sklearn.model_selection import train_test_split\n",
    "\n",
    "seed_value = 1000\n",
    "\n",
    "class SliceData:\n",
    "    def __init__(self):\n",
    "        self._test_size = 100\n",
    "        \n",
    "        self._data_path = \"../extraction/2-release/100-ext/100/characters\"\n",
    "        self._save_path = \"../extraction/2-release/test-\" + str(self._test_size) + \"-rest-train\"\n",
    "        \n",
    "    def is_checking_path(self):\n",
    "        if os.path.exists(self._data_path)==False:\n",
    "            sys.exit('Path not found')\n",
    "        elif os.path.exists(self._save_path)==True:\n",
    "            sys.exit('Save file already exists')\n",
    "        else:\n",
    "            print('path checked')\n",
    "        \n",
    "    def is_processing(self):\n",
    "        if not os.path.exists(self._save_path):\n",
    "            os.mkdir(self._save_path)\n",
    "        print('saving path created')\n",
    "            \n",
    "        path_train = os.path.join(self._save_path, \"train\")\n",
    "        path_test = os.path.join(self._save_path, \"test\")\n",
    "        os.mkdir(path_train)\n",
    "        os.mkdir(path_test)\n",
    "        print('train test path created')\n",
    "        \n",
    "        classes = os.listdir(self._data_path)\n",
    "        \n",
    "        for char_class in tqdm(classes):\n",
    "            path_char = os.path.join(self._data_path, char_class)\n",
    "            path_save_train = os.path.join(path_train, char_class)\n",
    "            path_save_test = os.path.join(path_test, char_class)\n",
    "            \n",
    "            # Load Name\n",
    "            name_group = []\n",
    "            for img_name in os.listdir(path_char):\n",
    "                name_group.append(img_name)\n",
    "            \n",
    "            # Split\n",
    "            train, test = train_test_split(name_group, test_size=self._test_size, random_state=seed_value)\n",
    "            \n",
    "            if not os.path.exists(path_save_train):\n",
    "                os.mkdir(path_save_train)\n",
    "            if not os.path.exists(path_save_test):\n",
    "                os.mkdir(path_save_test)\n",
    "            \n",
    "            # Copy img\n",
    "            for train_img in train:\n",
    "                copyfile(os.path.join(path_char, train_img), os.path.join(path_save_train, train_img))\n",
    "                \n",
    "            for test_img in test:\n",
    "                copyfile(os.path.join(path_char, test_img), os.path.join(path_save_test, test_img))\n",
    "                \n",
    "        print('extraction complited')\n",
    "                \n",
    "if __name__=='__main__':\n",
    "    sd = SliceData()\n",
    "    sd.is_checking_path()\n",
    "    sd.is_processing()"
   ]
  }
 ],
 "metadata": {
  "kernelspec": {
   "display_name": "Python 3",
   "language": "python",
   "name": "python3"
  },
  "language_info": {
   "codemirror_mode": {
    "name": "ipython",
    "version": 3
   },
   "file_extension": ".py",
   "mimetype": "text/x-python",
   "name": "python",
   "nbconvert_exporter": "python",
   "pygments_lexer": "ipython3",
   "version": "3.6.8"
  }
 },
 "nbformat": 4,
 "nbformat_minor": 2
}
